{
 "cells": [
  {
   "cell_type": "code",
   "execution_count": 1,
   "metadata": {},
   "outputs": [],
   "source": [
    "import pandas as pd\n",
    "import os\n",
    "import sqlalchemy\n",
    "import copy"
   ]
  },
  {
   "cell_type": "code",
   "execution_count": null,
   "metadata": {},
   "outputs": [],
   "source": [
    "#RNS List\n",
    "iter_csv = pd.read_csv(r'\\\\hke.local\\Glovis\\Public\\Power BI\\MASTER LISTS\\VELES\\VehicleList\\HU\\HU_vehicle_list.csv', iterator=True, chunksize=4000)\n",
    "hu_rns_pull = pd.concat(chunk.loc[(chunk['VHCL_STTS_CD'] == \"N\") & (chunk['CARR_CD'] == \"EXTRM\") & (~chunk['RELS_DT'].isna())] for chunk in iter_csv)\n",
    "hu_rns = hu_rns_pull\n",
    "\n",
    "#From Ship to Dealer column, concatenate with Customer column\n",
    "hu_rns['CODE_CUST'] = hu_rns['SHIP_TO_DELR_CD'] + hu_rns['OWSH_CD']"
   ]
  }
 ],
 "metadata": {
  "kernelspec": {
   "display_name": "Python 3",
   "language": "python",
   "name": "python3"
  },
  "language_info": {
   "codemirror_mode": {
    "name": "ipython",
    "version": 3
   },
   "file_extension": ".py",
   "mimetype": "text/x-python",
   "name": "python",
   "nbconvert_exporter": "python",
   "pygments_lexer": "ipython3",
   "version": "3.8.5"
  }
 },
 "nbformat": 4,
 "nbformat_minor": 4
}
